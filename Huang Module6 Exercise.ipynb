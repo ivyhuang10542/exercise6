{
 "cells": [
  {
   "cell_type": "markdown",
   "metadata": {},
   "source": [
    "### Exercise 1\n",
    "Convert following decimal number to a binary number by hand:\n",
    "\n",
    "    61\n",
    "    15\n",
    "    71\n",
    "    "
   ]
  },
  {
   "cell_type": "code",
   "execution_count": 19,
   "metadata": {},
   "outputs": [
    {
     "name": "stdout",
     "output_type": "stream",
     "text": [
      "30 1\n",
      "15 0\n",
      "7 1\n",
      "3 1\n",
      "1 1\n",
      "0 1\n",
      "binary for 61 is 0b111101\n",
      "\n",
      "\n",
      "7 1\n",
      "3 1\n",
      "1 1\n",
      "0 1\n",
      "binary for 15 is 0b1111\n",
      "\n",
      "\n",
      "35 1\n",
      "17 1\n",
      "8 1\n",
      "4 0\n",
      "2 0\n",
      "1 0\n",
      "0 1\n",
      "binary for 71 is 0b1000111\n"
     ]
    }
   ],
   "source": [
    "print(61//2,61%2)\n",
    "print(30//2,30%2)\n",
    "print(15//2,15%2)\n",
    "print(7//2,7%2)\n",
    "print(3//2,3%2)\n",
    "print(1//2,1%2)\n",
    "print(\"binary for 61 is 0b111101\")\n",
    "print(\"\\n\")\n",
    "print(15//2,15%2)\n",
    "print(7//2,7%2)\n",
    "print(3//2,3%2)\n",
    "print(1//2,1%2)\n",
    "print(\"binary for 15 is 0b1111\")\n",
    "print(\"\\n\")\n",
    "print(71//2,71%2)\n",
    "print(35//2,35%2)\n",
    "print(17//2,17%2)\n",
    "print(8//2,8%2)\n",
    "print(4//2,4%2)\n",
    "print(2//2,2%2)\n",
    "print(1//2,1%2)\n",
    "print(\"binary for 71 is 0b1000111\")"
   ]
  },
  {
   "cell_type": "markdown",
   "metadata": {},
   "source": [
    "### Exercise 2\n",
    "When a = 61 and b = 15, what is the result of following bitwise opertion? Use inline comments to show your result in a binary number. Find your answer by hand.\n",
    "\n",
    "    a & b\n",
    "    a | b\n",
    "    a ^ b\n",
    "    a >> 2\n",
    "    "
   ]
  },
  {
   "cell_type": "code",
   "execution_count": 20,
   "metadata": {},
   "outputs": [
    {
     "name": "stdout",
     "output_type": "stream",
     "text": [
      "binary for 61 is 0b111101\n",
      "binary for 15 is 0b1111\n"
     ]
    }
   ],
   "source": [
    "# convert a in to a binary number\n",
    "#print(61//2,61%2)\n",
    "#print(30//2,30%2)\n",
    "#print(15//2,15%2)\n",
    "#print(7//2,7%2)\n",
    "#print(3//2,3%2)\n",
    "#print(1//2,1%2)\n",
    "print(\"binary for 61 is 0b111101\")\n",
    "\n",
    "# convert b in to a binary number\n",
    "#print(15//2,15%2)\n",
    "#print(7//2,7%2)\n",
    "#print(3//2,3%2)\n",
    "#print(1//2,1%2)\n",
    "print(\"binary for 15 is 0b1111\")\n"
   ]
  },
  {
   "cell_type": "code",
   "execution_count": 41,
   "metadata": {},
   "outputs": [
    {
     "data": {
      "text/plain": [
       "13"
      ]
     },
     "execution_count": 41,
     "metadata": {},
     "output_type": "execute_result"
    }
   ],
   "source": [
    "# a & b\n",
    "a=61  #111101\n",
    "b=15  #111100 \n",
    "a&b   #111100"
   ]
  },
  {
   "cell_type": "code",
   "execution_count": 43,
   "metadata": {},
   "outputs": [
    {
     "data": {
      "text/plain": [
       "63"
      ]
     },
     "execution_count": 43,
     "metadata": {},
     "output_type": "execute_result"
    }
   ],
   "source": [
    "# a | b\n",
    "a=61  #111101\n",
    "b=15  #111100 \n",
    "a|b   #111101"
   ]
  },
  {
   "cell_type": "code",
   "execution_count": 31,
   "metadata": {},
   "outputs": [
    {
     "data": {
      "text/plain": [
       "50"
      ]
     },
     "execution_count": 31,
     "metadata": {},
     "output_type": "execute_result"
    }
   ],
   "source": [
    "# a ^ b\n",
    "a=61  #111101\n",
    "b=15  #111100 \n",
    "a^b   #000001"
   ]
  },
  {
   "cell_type": "code",
   "execution_count": 42,
   "metadata": {},
   "outputs": [
    {
     "data": {
      "text/plain": [
       "15"
      ]
     },
     "execution_count": 42,
     "metadata": {},
     "output_type": "execute_result"
    }
   ],
   "source": [
    "# a >> 2\n",
    "a=61  #111101\n",
    "b=15  #111100 \n",
    "a>>2  #001111"
   ]
  },
  {
   "cell_type": "markdown",
   "metadata": {},
   "source": [
    "### Exercise 3\n",
    "Ask a user for a code and store that answer. \n",
    "If the answer is <b>grey</b> then print \"You found secret code.\"\n",
    "Otherwise print that the entered code is not the secret code."
   ]
  },
  {
   "cell_type": "code",
   "execution_count": 49,
   "metadata": {},
   "outputs": [
    {
     "name": "stdout",
     "output_type": "stream",
     "text": [
      "Secret code:grey\n",
      "You found secret code.\n"
     ]
    }
   ],
   "source": [
    "code=input(\"Secret code:\")\n",
    "    \n",
    "if code == \"grey\" :\n",
    "    print(\"You found secret code.\")\n",
    "else :\n",
    "    print(\"Not secret code.\")"
   ]
  },
  {
   "cell_type": "markdown",
   "metadata": {},
   "source": [
    "### Exercise 4\n",
    "Ask for an exam score and store that number. If the number is greater than 100, then print out 'You cannot have an exam score higher than 100'. If the number doesn't exceeed 100 but is greater than or equal to 75, then print out 'You did great on your exam!'. Otherwise if they scored lower than 75, then print out 'You need to study harder'."
   ]
  },
  {
   "cell_type": "code",
   "execution_count": 63,
   "metadata": {},
   "outputs": [
    {
     "name": "stdout",
     "output_type": "stream",
     "text": [
      "Enter score: 100\n",
      "You did great on your exam!\n"
     ]
    }
   ],
   "source": [
    "def exam(score) :\n",
    "    if score>100:\n",
    "        message = \"You cannot have an exam score higher than 100.\"    \n",
    "    elif score>=75:\n",
    "        message = \"You did great on your exam!\"\n",
    "    elif score<75:\n",
    "        message = \"You need to study harder.\"\n",
    "    \n",
    "    return message \n",
    "\n",
    "score = int(input(\"Enter score: \"))\n",
    "print(exam(score))"
   ]
  },
  {
   "cell_type": "markdown",
   "metadata": {},
   "source": [
    "### Exercise 5\n",
    "Write a function to convert a test score to a grade where  \n",
    " - 90 - 100: A\n",
    " - 80 - 89:  B\n",
    " - 70 - 79:  C\n",
    " - 60 - 69:  D\n",
    " - < 60   :  F\n",
    " \n",
    "If a score is not between 0 and 100 then print out an error message. In the program, ask the user for a score and then call your function. "
   ]
  },
  {
   "cell_type": "code",
   "execution_count": 70,
   "metadata": {},
   "outputs": [
    {
     "name": "stdout",
     "output_type": "stream",
     "text": [
      "Enter score: 91\n",
      "A\n"
     ]
    }
   ],
   "source": [
    "# define your function\n",
    "def exam(score) :\n",
    "    if score>100:\n",
    "        message = \"You cannot have an exam score higher than 100.\"    \n",
    "    elif score>=90:\n",
    "        message = \"A\"\n",
    "    elif score>=80:\n",
    "        message = \"B\"\n",
    "    elif score>=70:\n",
    "        message = \"C\"\n",
    "    elif score>=60:\n",
    "        message = \"D\"\n",
    "    elif score<60:\n",
    "        message = \"F\"\n",
    "    elif score<0:\n",
    "        message = \"You cannot have an exam score lower than 0.\"\n",
    "    \n",
    "    return message \n",
    "\n",
    "score = int(input(\"Enter score: \"))\n",
    "print(exam(score))"
   ]
  }
 ],
 "metadata": {
  "kernelspec": {
   "display_name": "Python 3",
   "language": "python",
   "name": "python3"
  },
  "language_info": {
   "codemirror_mode": {
    "name": "ipython",
    "version": 3
   },
   "file_extension": ".py",
   "mimetype": "text/x-python",
   "name": "python",
   "nbconvert_exporter": "python",
   "pygments_lexer": "ipython3",
   "version": "3.8.8"
  }
 },
 "nbformat": 4,
 "nbformat_minor": 4
}
